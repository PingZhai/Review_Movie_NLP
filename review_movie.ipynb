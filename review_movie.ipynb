{
 "cells": [
  {
   "cell_type": "markdown",
   "metadata": {},
   "source": [
    "Import all libraries. "
   ]
  },
  {
   "cell_type": "code",
   "execution_count": 1,
   "metadata": {},
   "outputs": [],
   "source": [
    "import numpy as np\n",
    "import pandas as pd\n",
    "import os\n",
    "import nltk\n",
    "import re\n",
    "import tensorflow as tf\n",
    "import matplotlib.pyplot as plt\n",
    "from tensorflow import keras\n",
    "from tensorflow.keras import layers\n",
    "from bs4 import BeautifulSoup\n",
    "from nltk.stem.porter import PorterStemmer\n",
    "from IPython.display import HTML\n",
    "from pathlib import Path\n",
    "from nltk.stem import WordNetLemmatizer\n",
    "from nltk.corpus import stopwords\n",
    "import nltk\n",
    "from tensorflow.keras.preprocessing.text import Tokenizer\n",
    "from tensorflow.keras.preprocessing.sequence import pad_sequences\n",
    "from tensorflow.keras.preprocessing.sequence import pad_sequences\n",
    "from sklearn.model_selection import train_test_split\n",
    "from collections import Counter\n",
    "from sklearn.metrics import accuracy_score"
   ]
  },
  {
   "cell_type": "markdown",
   "metadata": {},
   "source": [
    "Define a function to read movie review text data into dataframe."
   ]
  },
  {
   "cell_type": "code",
   "execution_count": 2,
   "metadata": {},
   "outputs": [],
   "source": [
    "def read_data():\n",
    "    datadir = \"C:/Users/pingz/MLproject/movie_review/data/aclImdb/\"\n",
    "    flist_pos = [datadir + \"/train/pos/\" + e for e in os.listdir(datadir + \"train/pos/\") if e.endswith(\".txt\")]\n",
    "    flist_neg = [datadir + \"/train/neg/\" + e for e in os.listdir(datadir + \"train/neg/\") if e.endswith(\".txt\")]\n",
    "\n",
    "    review_pos=[]\n",
    "    review_neg=[]\n",
    "    for f in flist_pos:\n",
    "        fo=open(f,encoding=\"utf8\")\n",
    "        review_pos.append(fo.readlines()[0])\n",
    "        fo.close()\n",
    "\n",
    "    for f in flist_neg:\n",
    "        fo=open(f,encoding=\"utf8\")\n",
    "        review_neg.append(fo.readlines()[0])\n",
    "        fo.close()\n",
    "    train_data = pd.concat([pd.DataFrame({\"review\":review_pos, \"label\":1, \"file\":flist_pos}),\\\n",
    "        pd.DataFrame({\"review\":review_neg, \"label\":0, \"file\":flist_neg})], ignore_index=True).sample(frac=1, random_state=1)\n",
    "\n",
    "    flist_pos = [datadir + \"/test/pos/\" + e for e in os.listdir(datadir + \"test/pos/\") if e.endswith(\".txt\")]\n",
    "    flist_neg = [datadir + \"/test/neg/\" + e for e in os.listdir(datadir + \"test/neg/\") if e.endswith(\".txt\")]\n",
    "\n",
    "    review_pos=[]\n",
    "    review_neg=[]\n",
    "    for f in flist_pos:\n",
    "        fo=open(f,encoding=\"utf8\")\n",
    "        review_pos.append(fo.readlines()[0])\n",
    "        fo.close()\n",
    "\n",
    "    for f in flist_neg:\n",
    "        fo=open(f,encoding=\"utf8\")\n",
    "        review_neg.append(fo.readlines()[0])\n",
    "        fo.close()\n",
    "    test_data = pd.concat([pd.DataFrame({\"review\":review_pos, \"label\":1, \"file\":flist_pos}),\\\n",
    "        pd.DataFrame({\"review\":review_neg, \"label\":0, \"file\":flist_neg})], ignore_index=True).sample(frac=1, random_state=1)\n",
    "\n",
    "    return train_data,test_data"
   ]
  },
  {
   "cell_type": "code",
   "execution_count": 3,
   "metadata": {},
   "outputs": [],
   "source": [
    "train_data,test_data=read_data() #read train and test data into dataframe. Positive reviews are marked as 1, and negative 0."
   ]
  },
  {
   "cell_type": "code",
   "execution_count": 4,
   "metadata": {},
   "outputs": [
    {
     "name": "stdout",
     "output_type": "stream",
     "text": [
      "Counter({0: 12500, 1: 12500})\n"
     ]
    },
    {
     "data": {
      "text/html": [
       "<div>\n",
       "<style scoped>\n",
       "    .dataframe tbody tr th:only-of-type {\n",
       "        vertical-align: middle;\n",
       "    }\n",
       "\n",
       "    .dataframe tbody tr th {\n",
       "        vertical-align: top;\n",
       "    }\n",
       "\n",
       "    .dataframe thead th {\n",
       "        text-align: right;\n",
       "    }\n",
       "</style>\n",
       "<table border=\"1\" class=\"dataframe\">\n",
       "  <thead>\n",
       "    <tr style=\"text-align: right;\">\n",
       "      <th></th>\n",
       "      <th>review</th>\n",
       "      <th>label</th>\n",
       "      <th>file</th>\n",
       "    </tr>\n",
       "  </thead>\n",
       "  <tbody>\n",
       "    <tr>\n",
       "      <td>21492</td>\n",
       "      <td>I have copy of this on VHS, I think they (The ...</td>\n",
       "      <td>0</td>\n",
       "      <td>C:/Users/pingz/MLproject/movie_review/data/acl...</td>\n",
       "    </tr>\n",
       "    <tr>\n",
       "      <td>9488</td>\n",
       "      <td>After several extremely well ratings to the po...</td>\n",
       "      <td>1</td>\n",
       "      <td>C:/Users/pingz/MLproject/movie_review/data/acl...</td>\n",
       "    </tr>\n",
       "    <tr>\n",
       "      <td>16933</td>\n",
       "      <td>I still don't know why I forced myself to sit ...</td>\n",
       "      <td>0</td>\n",
       "      <td>C:/Users/pingz/MLproject/movie_review/data/acl...</td>\n",
       "    </tr>\n",
       "    <tr>\n",
       "      <td>12604</td>\n",
       "      <td>Mt little sister and I are self-proclaimed hor...</td>\n",
       "      <td>0</td>\n",
       "      <td>C:/Users/pingz/MLproject/movie_review/data/acl...</td>\n",
       "    </tr>\n",
       "    <tr>\n",
       "      <td>8222</td>\n",
       "      <td>I have personally seen many Disney movies in m...</td>\n",
       "      <td>1</td>\n",
       "      <td>C:/Users/pingz/MLproject/movie_review/data/acl...</td>\n",
       "    </tr>\n",
       "  </tbody>\n",
       "</table>\n",
       "</div>"
      ],
      "text/plain": [
       "                                                  review  label  \\\n",
       "21492  I have copy of this on VHS, I think they (The ...      0   \n",
       "9488   After several extremely well ratings to the po...      1   \n",
       "16933  I still don't know why I forced myself to sit ...      0   \n",
       "12604  Mt little sister and I are self-proclaimed hor...      0   \n",
       "8222   I have personally seen many Disney movies in m...      1   \n",
       "\n",
       "                                                    file  \n",
       "21492  C:/Users/pingz/MLproject/movie_review/data/acl...  \n",
       "9488   C:/Users/pingz/MLproject/movie_review/data/acl...  \n",
       "16933  C:/Users/pingz/MLproject/movie_review/data/acl...  \n",
       "12604  C:/Users/pingz/MLproject/movie_review/data/acl...  \n",
       "8222   C:/Users/pingz/MLproject/movie_review/data/acl...  "
      ]
     },
     "execution_count": 4,
     "metadata": {},
     "output_type": "execute_result"
    }
   ],
   "source": [
    "print(Counter(train_data['label']))\n",
    "train_data.head()"
   ]
  },
  {
   "cell_type": "markdown",
   "metadata": {},
   "source": [
    "The training data is balanced since there are 12500 cases of negative reviews and 12500 cases of positive reviews. Therefore, we can use accuracy to measure the model's performance. "
   ]
  },
  {
   "cell_type": "code",
   "execution_count": 5,
   "metadata": {},
   "outputs": [
    {
     "name": "stdout",
     "output_type": "stream",
     "text": [
      "Positive review: After several extremely well ratings to the point of SUPERB, I was extremely pleased with the film. The film was dark, moving, the anger, the pain, the guilt and a very extremely convincing demon.<br /><br />I had initially expected to see many special effects, and like a lover's caress, it blew me away with the subtlety and the rightness of it. Brian, I am again blown away with your artistry with the telling of the story and your care of the special effects. You will go a long way, my friend. I will definitely be the president of your fan club.<br /><br />Eric Etebari, the best actor award, was the number one choice. You made Jr. Lopez look like a child compared to Kasadya. :) <br /><br />Overall, the acting, story line, the high quality filming and awesome effects, it was fantastic. I just wish it were longer. I am looking forward to The Dreamless with extremely high expectations.\n",
      "\n",
      "Negative review: I have copy of this on VHS, I think they (The television networks) should play this every year for the next twenty years. So that we don't forget what was and that we remember not to do the same mistakes again. Like putting some people in the director's chair, where they don't belong. This movie Rappin' is like a vaudevillian musical, for those who can't sing, or act. This movie is as much fun as trying to teach the 'blind' to drive a city bus.<br /><br />John Hood, (Peebles) has just got out of prison and he's headed back to the old neighborhood. In serving time for an all-to-nice crime of necessity, of course. John heads back onto the old street and is greeted by kids dogs old ladies and his peer homeys as they dance and sing all along the way.<br /><br />I would recommend this if I was sentimental, or if in truth someone was smoking medicinal pot prescribed by a doctor for glaucoma. Either way this is a poorly directed, scripted, acted and even produced (I never thought I'd sat that) satire of ghetto life with the 'Hood'. Although, I think the redeeming part of the story, through the wannabe gang fight sequences and the dance numbers, his friends care about their neighbors and want to save the ghetto from being torn down and cleaned up. <br /><br />Forget Sonny spoon, Mario could have won an Oscar for that in comparison to this Rap. Oh well if you find yourself wanting to laugh yourself silly and three-quarters embarrassed, be sure to drink first. <br /><br />And please, watch responsibly. (No stars, better luck next time!)\n"
     ]
    }
   ],
   "source": [
    "print('Positive review: '+train_data['review'].iloc[1]+'\\n')\n",
    "print('Negative review: '+train_data['review'].iloc[0]) #check two examples of positive and negative reviews. "
   ]
  },
  {
   "cell_type": "markdown",
   "metadata": {},
   "source": [
    "Remove HTML codes, replace special characters with space, conver to lower case"
   ]
  },
  {
   "cell_type": "code",
   "execution_count": 6,
   "metadata": {},
   "outputs": [],
   "source": [
    "train_data['review'] = train_data['review'].apply(lambda r: BeautifulSoup(r, 'html.parser').get_text())\n",
    "train_data['review'].replace(to_replace ='[^a-z A-Z]', value = '', regex = True, inplace = True)\n",
    "train_data['review'] = train_data['review'].str.lower()  #convert to lower case"
   ]
  },
  {
   "cell_type": "markdown",
   "metadata": {},
   "source": [
    " Remove stopwords, duplicate words and grouping together the different forms of a word."
   ]
  },
  {
   "cell_type": "code",
   "execution_count": 7,
   "metadata": {},
   "outputs": [
    {
     "name": "stderr",
     "output_type": "stream",
     "text": [
      "[nltk_data] Downloading package stopwords to\n",
      "[nltk_data]     C:\\Users\\pingz\\AppData\\Roaming\\nltk_data...\n",
      "[nltk_data]   Package stopwords is already up-to-date!\n"
     ]
    }
   ],
   "source": [
    "lemmatizer = WordNetLemmatizer()\n",
    "nltk.download('stopwords')\n",
    "estopwords = set(stopwords.words('english')).union([\"thats\",\"weve\",\"dont\",\"lets\",\"youre\",\"im\",\"thi\",\"ha\",\\\n",
    "    \"wa\",\"st\",\"ask\",\"want\",\"like\",\"thank\",\"know\",\"susan\",\"ryan\",\"say\",\"got\",\"ought\",\"ive\",\"theyre\"])  #get the English stop words\n",
    "train_data['review'] = train_data['review'].apply(lambda x: ' '.join([lemmatizer.lemmatize(word) for word in set(x.split()) if word not in estopwords]))"
   ]
  },
  {
   "cell_type": "markdown",
   "metadata": {},
   "source": [
    "Tokenize the words and pad the tokens with fixed length."
   ]
  },
  {
   "cell_type": "code",
   "execution_count": 8,
   "metadata": {},
   "outputs": [],
   "source": [
    "MAX_VOCABS = 5000\n",
    "tokenizer = Tokenizer(num_words = MAX_VOCABS)\n",
    "tokenizer.fit_on_texts(pd.concat([train_data['review']]))\n",
    "x_train = tokenizer.texts_to_sequences(train_data['review'])\n",
    "MAX_LEN = max([len(i) for i in x_train])\n",
    "vocab_size = MAX_VOCABS + 1\n",
    "x_train = pad_sequences(x_train, padding='post', maxlen=MAX_LEN, value=vocab_size)"
   ]
  },
  {
   "cell_type": "markdown",
   "metadata": {},
   "source": [
    "Split train data into train data and validation data. "
   ]
  },
  {
   "cell_type": "code",
   "execution_count": 9,
   "metadata": {},
   "outputs": [],
   "source": [
    "y_train=np.array(train_data['label'])\n",
    "x_train, x_val, y_train, y_val = train_test_split(x_train, y_train, test_size = 0.2, random_state = 42)"
   ]
  },
  {
   "cell_type": "markdown",
   "metadata": {},
   "source": [
    "Train the model with embedd_dim=16."
   ]
  },
  {
   "cell_type": "code",
   "execution_count": 10,
   "metadata": {},
   "outputs": [
    {
     "name": "stdout",
     "output_type": "stream",
     "text": [
      "Train on 20000 samples, validate on 5000 samples\n",
      "Epoch 1/75\n",
      "20000/20000 - 2s - loss: 0.6930 - accuracy: 0.5009 - val_loss: 0.6927 - val_accuracy: 0.4994\n",
      "Epoch 2/75\n",
      "20000/20000 - 1s - loss: 0.6920 - accuracy: 0.6130 - val_loss: 0.6910 - val_accuracy: 0.5654\n",
      "Epoch 3/75\n",
      "20000/20000 - 1s - loss: 0.6894 - accuracy: 0.5937 - val_loss: 0.6872 - val_accuracy: 0.6194\n",
      "Epoch 4/75\n",
      "20000/20000 - 1s - loss: 0.6829 - accuracy: 0.7810 - val_loss: 0.6781 - val_accuracy: 0.7908\n",
      "Epoch 5/75\n",
      "20000/20000 - 1s - loss: 0.6692 - accuracy: 0.8119 - val_loss: 0.6607 - val_accuracy: 0.7338\n",
      "Epoch 6/75\n",
      "20000/20000 - 1s - loss: 0.6454 - accuracy: 0.8141 - val_loss: 0.6318 - val_accuracy: 0.8296\n",
      "Epoch 7/75\n",
      "20000/20000 - 1s - loss: 0.6104 - accuracy: 0.8255 - val_loss: 0.5942 - val_accuracy: 0.8260\n",
      "Epoch 8/75\n",
      "20000/20000 - 1s - loss: 0.5676 - accuracy: 0.8400 - val_loss: 0.5522 - val_accuracy: 0.8296\n",
      "Epoch 9/75\n",
      "20000/20000 - 1s - loss: 0.5227 - accuracy: 0.8421 - val_loss: 0.5097 - val_accuracy: 0.8418\n",
      "Epoch 10/75\n",
      "20000/20000 - 1s - loss: 0.4798 - accuracy: 0.8507 - val_loss: 0.4722 - val_accuracy: 0.8440\n",
      "Epoch 11/75\n",
      "20000/20000 - 1s - loss: 0.4427 - accuracy: 0.8550 - val_loss: 0.4452 - val_accuracy: 0.8346\n",
      "Epoch 12/75\n",
      "20000/20000 - 1s - loss: 0.4109 - accuracy: 0.8618 - val_loss: 0.4155 - val_accuracy: 0.8534\n",
      "Epoch 13/75\n",
      "20000/20000 - 1s - loss: 0.3856 - accuracy: 0.8656 - val_loss: 0.3951 - val_accuracy: 0.8564\n",
      "Epoch 14/75\n",
      "20000/20000 - 1s - loss: 0.3630 - accuracy: 0.8722 - val_loss: 0.3786 - val_accuracy: 0.8594\n",
      "Epoch 15/75\n",
      "20000/20000 - 1s - loss: 0.3447 - accuracy: 0.8755 - val_loss: 0.3644 - val_accuracy: 0.8636\n",
      "Epoch 16/75\n",
      "20000/20000 - 1s - loss: 0.3284 - accuracy: 0.8803 - val_loss: 0.3525 - val_accuracy: 0.8678\n",
      "Epoch 17/75\n",
      "20000/20000 - 1s - loss: 0.3146 - accuracy: 0.8830 - val_loss: 0.3432 - val_accuracy: 0.8686\n",
      "Epoch 18/75\n",
      "20000/20000 - 1s - loss: 0.3026 - accuracy: 0.8865 - val_loss: 0.3349 - val_accuracy: 0.8708\n",
      "Epoch 19/75\n",
      "20000/20000 - 1s - loss: 0.2924 - accuracy: 0.8896 - val_loss: 0.3324 - val_accuracy: 0.8724\n",
      "Epoch 20/75\n",
      "20000/20000 - 1s - loss: 0.2839 - accuracy: 0.8921 - val_loss: 0.3225 - val_accuracy: 0.8728\n",
      "Epoch 21/75\n",
      "20000/20000 - 1s - loss: 0.2756 - accuracy: 0.8947 - val_loss: 0.3192 - val_accuracy: 0.8746\n",
      "Epoch 22/75\n",
      "20000/20000 - 1s - loss: 0.2677 - accuracy: 0.8989 - val_loss: 0.3149 - val_accuracy: 0.8746\n",
      "Epoch 23/75\n",
      "20000/20000 - 1s - loss: 0.2609 - accuracy: 0.9021 - val_loss: 0.3110 - val_accuracy: 0.8746\n",
      "Epoch 24/75\n",
      "20000/20000 - 1s - loss: 0.2552 - accuracy: 0.9043 - val_loss: 0.3099 - val_accuracy: 0.8738\n",
      "Epoch 25/75\n",
      "20000/20000 - 1s - loss: 0.2496 - accuracy: 0.9075 - val_loss: 0.3067 - val_accuracy: 0.8778\n",
      "Epoch 26/75\n",
      "20000/20000 - 1s - loss: 0.2444 - accuracy: 0.9090 - val_loss: 0.3065 - val_accuracy: 0.8792\n",
      "Epoch 27/75\n",
      "20000/20000 - 1s - loss: 0.2407 - accuracy: 0.9091 - val_loss: 0.3054 - val_accuracy: 0.8784\n",
      "Epoch 28/75\n",
      "20000/20000 - 1s - loss: 0.2352 - accuracy: 0.9120 - val_loss: 0.3021 - val_accuracy: 0.8756\n",
      "Epoch 29/75\n",
      "20000/20000 - 1s - loss: 0.2318 - accuracy: 0.9132 - val_loss: 0.3015 - val_accuracy: 0.8800\n",
      "Epoch 30/75\n",
      "20000/20000 - 1s - loss: 0.2275 - accuracy: 0.9155 - val_loss: 0.3024 - val_accuracy: 0.8768\n",
      "Epoch 31/75\n",
      "20000/20000 - 1s - loss: 0.2245 - accuracy: 0.9161 - val_loss: 0.2992 - val_accuracy: 0.8790\n",
      "Epoch 32/75\n",
      "20000/20000 - 1s - loss: 0.2203 - accuracy: 0.9183 - val_loss: 0.2988 - val_accuracy: 0.8792\n",
      "Epoch 33/75\n",
      "20000/20000 - 1s - loss: 0.2173 - accuracy: 0.9188 - val_loss: 0.3004 - val_accuracy: 0.8776\n",
      "Epoch 34/75\n",
      "20000/20000 - 1s - loss: 0.2154 - accuracy: 0.9188 - val_loss: 0.2984 - val_accuracy: 0.8794\n",
      "Epoch 35/75\n",
      "20000/20000 - 1s - loss: 0.2110 - accuracy: 0.9216 - val_loss: 0.2987 - val_accuracy: 0.8792\n",
      "Epoch 36/75\n",
      "20000/20000 - 1s - loss: 0.2084 - accuracy: 0.9220 - val_loss: 0.3018 - val_accuracy: 0.8788\n",
      "Epoch 37/75\n",
      "20000/20000 - 1s - loss: 0.2060 - accuracy: 0.9237 - val_loss: 0.2986 - val_accuracy: 0.8790\n",
      "Epoch 38/75\n",
      "20000/20000 - 1s - loss: 0.2041 - accuracy: 0.9240 - val_loss: 0.2993 - val_accuracy: 0.8804\n",
      "Epoch 39/75\n",
      "20000/20000 - 1s - loss: 0.2008 - accuracy: 0.9252 - val_loss: 0.2997 - val_accuracy: 0.8792\n",
      "Epoch 40/75\n",
      "20000/20000 - 1s - loss: 0.1980 - accuracy: 0.9266 - val_loss: 0.3005 - val_accuracy: 0.8798\n",
      "Epoch 41/75\n",
      "20000/20000 - 1s - loss: 0.1959 - accuracy: 0.9279 - val_loss: 0.3023 - val_accuracy: 0.8796\n",
      "Epoch 42/75\n",
      "20000/20000 - 1s - loss: 0.1940 - accuracy: 0.9269 - val_loss: 0.3020 - val_accuracy: 0.8782\n",
      "Epoch 43/75\n",
      "20000/20000 - 1s - loss: 0.1931 - accuracy: 0.9280 - val_loss: 0.3030 - val_accuracy: 0.8798\n",
      "Epoch 44/75\n",
      "20000/20000 - 1s - loss: 0.1891 - accuracy: 0.9304 - val_loss: 0.3029 - val_accuracy: 0.8796\n",
      "Epoch 45/75\n",
      "20000/20000 - 1s - loss: 0.1872 - accuracy: 0.9310 - val_loss: 0.3061 - val_accuracy: 0.8792\n",
      "Epoch 46/75\n",
      "20000/20000 - 1s - loss: 0.1857 - accuracy: 0.9299 - val_loss: 0.3051 - val_accuracy: 0.8786\n",
      "Epoch 47/75\n",
      "20000/20000 - 1s - loss: 0.1831 - accuracy: 0.9327 - val_loss: 0.3104 - val_accuracy: 0.8776\n",
      "Epoch 48/75\n",
      "20000/20000 - 1s - loss: 0.1823 - accuracy: 0.9326 - val_loss: 0.3092 - val_accuracy: 0.8760\n",
      "Epoch 49/75\n",
      "20000/20000 - 1s - loss: 0.1816 - accuracy: 0.9319 - val_loss: 0.3078 - val_accuracy: 0.8788\n",
      "Epoch 50/75\n",
      "20000/20000 - 1s - loss: 0.1778 - accuracy: 0.9352 - val_loss: 0.3090 - val_accuracy: 0.8792\n",
      "Epoch 51/75\n",
      "20000/20000 - 1s - loss: 0.1763 - accuracy: 0.9351 - val_loss: 0.3112 - val_accuracy: 0.8776\n",
      "Epoch 52/75\n",
      "20000/20000 - 1s - loss: 0.1755 - accuracy: 0.9356 - val_loss: 0.3123 - val_accuracy: 0.8768\n",
      "Epoch 53/75\n",
      "20000/20000 - 1s - loss: 0.1729 - accuracy: 0.9369 - val_loss: 0.3131 - val_accuracy: 0.8780\n",
      "Epoch 54/75\n",
      "20000/20000 - 1s - loss: 0.1713 - accuracy: 0.9385 - val_loss: 0.3157 - val_accuracy: 0.8764\n",
      "Epoch 55/75\n",
      "20000/20000 - 1s - loss: 0.1699 - accuracy: 0.9380 - val_loss: 0.3171 - val_accuracy: 0.8774\n",
      "Epoch 56/75\n",
      "20000/20000 - 1s - loss: 0.1697 - accuracy: 0.9373 - val_loss: 0.3187 - val_accuracy: 0.8762\n",
      "Epoch 57/75\n",
      "20000/20000 - 1s - loss: 0.1665 - accuracy: 0.9387 - val_loss: 0.3194 - val_accuracy: 0.8770\n",
      "Epoch 58/75\n",
      "20000/20000 - 1s - loss: 0.1649 - accuracy: 0.9401 - val_loss: 0.3222 - val_accuracy: 0.8764\n",
      "Epoch 59/75\n",
      "20000/20000 - 1s - loss: 0.1635 - accuracy: 0.9412 - val_loss: 0.3225 - val_accuracy: 0.8764\n",
      "Epoch 60/75\n",
      "20000/20000 - 1s - loss: 0.1623 - accuracy: 0.9413 - val_loss: 0.3242 - val_accuracy: 0.8766\n",
      "Epoch 61/75\n",
      "20000/20000 - 1s - loss: 0.1606 - accuracy: 0.9425 - val_loss: 0.3263 - val_accuracy: 0.8776\n",
      "Epoch 62/75\n",
      "20000/20000 - 1s - loss: 0.1598 - accuracy: 0.9414 - val_loss: 0.3297 - val_accuracy: 0.8738\n",
      "Epoch 63/75\n",
      "20000/20000 - 1s - loss: 0.1587 - accuracy: 0.9426 - val_loss: 0.3340 - val_accuracy: 0.8724\n",
      "Epoch 64/75\n",
      "20000/20000 - 1s - loss: 0.1567 - accuracy: 0.9441 - val_loss: 0.3310 - val_accuracy: 0.8768\n",
      "Epoch 65/75\n",
      "20000/20000 - 1s - loss: 0.1564 - accuracy: 0.9431 - val_loss: 0.3342 - val_accuracy: 0.8752\n",
      "Epoch 66/75\n",
      "20000/20000 - 1s - loss: 0.1551 - accuracy: 0.9446 - val_loss: 0.3358 - val_accuracy: 0.8748\n",
      "Epoch 67/75\n",
      "20000/20000 - 1s - loss: 0.1532 - accuracy: 0.9449 - val_loss: 0.3370 - val_accuracy: 0.8748\n",
      "Epoch 68/75\n",
      "20000/20000 - 1s - loss: 0.1517 - accuracy: 0.9455 - val_loss: 0.3387 - val_accuracy: 0.8758\n",
      "Epoch 69/75\n",
      "20000/20000 - 1s - loss: 0.1502 - accuracy: 0.9464 - val_loss: 0.3403 - val_accuracy: 0.8756\n",
      "Epoch 70/75\n",
      "20000/20000 - 1s - loss: 0.1501 - accuracy: 0.9461 - val_loss: 0.3438 - val_accuracy: 0.8732\n",
      "Epoch 71/75\n",
      "20000/20000 - 1s - loss: 0.1493 - accuracy: 0.9470 - val_loss: 0.3440 - val_accuracy: 0.8760\n",
      "Epoch 72/75\n",
      "20000/20000 - 1s - loss: 0.1472 - accuracy: 0.9474 - val_loss: 0.3461 - val_accuracy: 0.8744\n",
      "Epoch 73/75\n",
      "20000/20000 - 1s - loss: 0.1467 - accuracy: 0.9485 - val_loss: 0.3477 - val_accuracy: 0.8756\n",
      "Epoch 74/75\n",
      "20000/20000 - 1s - loss: 0.1445 - accuracy: 0.9490 - val_loss: 0.3569 - val_accuracy: 0.8696\n",
      "Epoch 75/75\n",
      "20000/20000 - 1s - loss: 0.1460 - accuracy: 0.9473 - val_loss: 0.3521 - val_accuracy: 0.8734\n"
     ]
    }
   ],
   "source": [
    "embedd_dim = 16\n",
    "model = keras.Sequential([keras.layers.Embedding(vocab_size + 1, embedd_dim), keras.layers.GlobalAveragePooling1D(),\\\n",
    "                          keras.layers.Dense(16, activation='relu'), keras.layers.Dense(1, activation='sigmoid')])\n",
    "model.compile(optimizer = 'adam', loss = 'binary_crossentropy', metrics = ['accuracy'])\n",
    "history = model.fit(x_train, y_train, epochs=75,  batch_size=512, verbose = 2, validation_data = (x_val, y_val))"
   ]
  },
  {
   "cell_type": "markdown",
   "metadata": {},
   "source": [
    "Use the test data to test the performance of the data. "
   ]
  },
  {
   "cell_type": "code",
   "execution_count": 11,
   "metadata": {},
   "outputs": [
    {
     "name": "stdout",
     "output_type": "stream",
     "text": [
      "accuracy score for test data with embedd_dim=16 is  0.86388\n"
     ]
    }
   ],
   "source": [
    "test_data['review'] = test_data['review'].apply(lambda r: BeautifulSoup(r, 'html.parser').get_text())\n",
    "test_data['review'].replace(to_replace ='[^a-z A-Z]', value = '', regex = True, inplace = True)\n",
    "test_data['review'] = test_data['review'].str.lower()  #convert to lower case\n",
    "test_data['review'] = test_data['review'].apply(lambda x: ' '.join([lemmatizer.lemmatize(word) for word in set(x.split()) if word not in estopwords]))\n",
    "\n",
    "x_test = tokenizer.texts_to_sequences(test_data['review'])\n",
    "x_test = pad_sequences(x_test, padding='post', maxlen=MAX_LEN, value=vocab_size)\n",
    "y_test=test_data['label']\n",
    "y_test_predict_prob=model.predict(x_test)\n",
    "y_test_predict=[1 if e >=0.5 else 0 for e in y_test_predict_prob]\n",
    "print('accuracy score for test data with embedd_dim=16 is ',accuracy_score(y_test_predict,y_test))\n",
    "df_test_label=pd.DataFrame({\"test_label_true\":list(y_test), \"test_label_predict\":y_test_predict,\"test_label_predict_probability\":list(y_test_predict_prob[:,0])})\n",
    "df_test_label.to_csv('test_label_true_predict.csv',index=True)\n"
   ]
  },
  {
   "cell_type": "code",
   "execution_count": 12,
   "metadata": {},
   "outputs": [
    {
     "name": "stdout",
     "output_type": "stream",
     "text": [
      "Train on 20000 samples, validate on 5000 samples\n",
      "Epoch 1/75\n",
      "20000/20000 - 2s - loss: 0.6929 - accuracy: 0.5128 - val_loss: 0.6923 - val_accuracy: 0.6406\n",
      "Epoch 2/75\n",
      "20000/20000 - 1s - loss: 0.6912 - accuracy: 0.6047 - val_loss: 0.6897 - val_accuracy: 0.5118\n",
      "Epoch 3/75\n",
      "20000/20000 - 1s - loss: 0.6846 - accuracy: 0.6755 - val_loss: 0.6772 - val_accuracy: 0.8138\n",
      "Epoch 4/75\n",
      "20000/20000 - 1s - loss: 0.6637 - accuracy: 0.7509 - val_loss: 0.6467 - val_accuracy: 0.8214\n",
      "Epoch 5/75\n",
      "20000/20000 - 1s - loss: 0.6203 - accuracy: 0.8278 - val_loss: 0.5938 - val_accuracy: 0.8348\n",
      "Epoch 6/75\n",
      "20000/20000 - 1s - loss: 0.5569 - accuracy: 0.8319 - val_loss: 0.5279 - val_accuracy: 0.8410\n",
      "Epoch 7/75\n",
      "20000/20000 - 1s - loss: 0.4890 - accuracy: 0.8436 - val_loss: 0.4684 - val_accuracy: 0.8432\n",
      "Epoch 8/75\n",
      "20000/20000 - 1s - loss: 0.4291 - accuracy: 0.8575 - val_loss: 0.4234 - val_accuracy: 0.8482\n",
      "Epoch 9/75\n",
      "20000/20000 - 1s - loss: 0.3838 - accuracy: 0.8651 - val_loss: 0.3877 - val_accuracy: 0.8582\n",
      "Epoch 10/75\n",
      "20000/20000 - 1s - loss: 0.3491 - accuracy: 0.8727 - val_loss: 0.3629 - val_accuracy: 0.8630\n",
      "Epoch 11/75\n",
      "20000/20000 - 1s - loss: 0.3233 - accuracy: 0.8796 - val_loss: 0.3453 - val_accuracy: 0.8670\n",
      "Epoch 12/75\n",
      "20000/20000 - 1s - loss: 0.3034 - accuracy: 0.8855 - val_loss: 0.3324 - val_accuracy: 0.8706\n",
      "Epoch 13/75\n",
      "20000/20000 - 1s - loss: 0.2877 - accuracy: 0.8927 - val_loss: 0.3227 - val_accuracy: 0.8708\n",
      "Epoch 14/75\n",
      "20000/20000 - 1s - loss: 0.2744 - accuracy: 0.8957 - val_loss: 0.3176 - val_accuracy: 0.8720\n",
      "Epoch 15/75\n",
      "20000/20000 - 1s - loss: 0.2637 - accuracy: 0.9010 - val_loss: 0.3119 - val_accuracy: 0.8758\n",
      "Epoch 16/75\n",
      "20000/20000 - 1s - loss: 0.2545 - accuracy: 0.9032 - val_loss: 0.3068 - val_accuracy: 0.8760\n",
      "Epoch 17/75\n",
      "20000/20000 - 1s - loss: 0.2453 - accuracy: 0.9075 - val_loss: 0.3035 - val_accuracy: 0.8770\n",
      "Epoch 18/75\n",
      "20000/20000 - 1s - loss: 0.2380 - accuracy: 0.9118 - val_loss: 0.3069 - val_accuracy: 0.8786\n",
      "Epoch 19/75\n",
      "20000/20000 - 1s - loss: 0.2321 - accuracy: 0.9132 - val_loss: 0.2998 - val_accuracy: 0.8780\n",
      "Epoch 20/75\n",
      "20000/20000 - 1s - loss: 0.2264 - accuracy: 0.9157 - val_loss: 0.2992 - val_accuracy: 0.8794\n",
      "Epoch 21/75\n",
      "20000/20000 - 1s - loss: 0.2202 - accuracy: 0.9179 - val_loss: 0.3006 - val_accuracy: 0.8816\n",
      "Epoch 22/75\n",
      "20000/20000 - 1s - loss: 0.2159 - accuracy: 0.9200 - val_loss: 0.3002 - val_accuracy: 0.8774\n",
      "Epoch 23/75\n",
      "20000/20000 - 1s - loss: 0.2119 - accuracy: 0.9220 - val_loss: 0.2986 - val_accuracy: 0.8776\n",
      "Epoch 24/75\n",
      "20000/20000 - 1s - loss: 0.2083 - accuracy: 0.9224 - val_loss: 0.2988 - val_accuracy: 0.8784\n",
      "Epoch 25/75\n",
      "20000/20000 - 1s - loss: 0.2029 - accuracy: 0.9251 - val_loss: 0.3002 - val_accuracy: 0.8786\n",
      "Epoch 26/75\n",
      "20000/20000 - 1s - loss: 0.2000 - accuracy: 0.9251 - val_loss: 0.3007 - val_accuracy: 0.8800\n",
      "Epoch 27/75\n",
      "20000/20000 - 1s - loss: 0.1964 - accuracy: 0.9265 - val_loss: 0.3016 - val_accuracy: 0.8776\n",
      "Epoch 28/75\n",
      "20000/20000 - 1s - loss: 0.1931 - accuracy: 0.9280 - val_loss: 0.3056 - val_accuracy: 0.8780\n",
      "Epoch 29/75\n",
      "20000/20000 - 1s - loss: 0.1887 - accuracy: 0.9309 - val_loss: 0.3054 - val_accuracy: 0.8784\n",
      "Epoch 30/75\n",
      "20000/20000 - 1s - loss: 0.1871 - accuracy: 0.9314 - val_loss: 0.3082 - val_accuracy: 0.8766\n",
      "Epoch 31/75\n",
      "20000/20000 - 1s - loss: 0.1836 - accuracy: 0.9325 - val_loss: 0.3083 - val_accuracy: 0.8786\n",
      "Epoch 32/75\n",
      "20000/20000 - 1s - loss: 0.1826 - accuracy: 0.9324 - val_loss: 0.3089 - val_accuracy: 0.8780\n",
      "Epoch 33/75\n",
      "20000/20000 - 1s - loss: 0.1792 - accuracy: 0.9339 - val_loss: 0.3108 - val_accuracy: 0.8764\n",
      "Epoch 34/75\n",
      "20000/20000 - 1s - loss: 0.1747 - accuracy: 0.9366 - val_loss: 0.3126 - val_accuracy: 0.8762\n",
      "Epoch 35/75\n",
      "20000/20000 - 1s - loss: 0.1730 - accuracy: 0.9381 - val_loss: 0.3157 - val_accuracy: 0.8758\n",
      "Epoch 36/75\n",
      "20000/20000 - 1s - loss: 0.1704 - accuracy: 0.9378 - val_loss: 0.3181 - val_accuracy: 0.8762\n",
      "Epoch 37/75\n",
      "20000/20000 - 1s - loss: 0.1688 - accuracy: 0.9389 - val_loss: 0.3191 - val_accuracy: 0.8762\n",
      "Epoch 38/75\n",
      "20000/20000 - 1s - loss: 0.1660 - accuracy: 0.9395 - val_loss: 0.3243 - val_accuracy: 0.8742\n",
      "Epoch 39/75\n",
      "20000/20000 - 1s - loss: 0.1634 - accuracy: 0.9412 - val_loss: 0.3243 - val_accuracy: 0.8748\n",
      "Epoch 40/75\n",
      "20000/20000 - 1s - loss: 0.1616 - accuracy: 0.9418 - val_loss: 0.3297 - val_accuracy: 0.8740\n",
      "Epoch 41/75\n",
      "20000/20000 - 1s - loss: 0.1600 - accuracy: 0.9428 - val_loss: 0.3308 - val_accuracy: 0.8746\n",
      "Epoch 42/75\n",
      "20000/20000 - 1s - loss: 0.1575 - accuracy: 0.9446 - val_loss: 0.3324 - val_accuracy: 0.8750\n",
      "Epoch 43/75\n",
      "20000/20000 - 1s - loss: 0.1559 - accuracy: 0.9452 - val_loss: 0.3367 - val_accuracy: 0.8730\n",
      "Epoch 44/75\n",
      "20000/20000 - 1s - loss: 0.1626 - accuracy: 0.9399 - val_loss: 0.3356 - val_accuracy: 0.8728\n",
      "Epoch 45/75\n",
      "20000/20000 - 1s - loss: 0.1535 - accuracy: 0.9460 - val_loss: 0.3422 - val_accuracy: 0.8740\n",
      "Epoch 46/75\n",
      "20000/20000 - 1s - loss: 0.1502 - accuracy: 0.9473 - val_loss: 0.3442 - val_accuracy: 0.8726\n",
      "Epoch 47/75\n",
      "20000/20000 - 1s - loss: 0.1487 - accuracy: 0.9475 - val_loss: 0.3444 - val_accuracy: 0.8728\n",
      "Epoch 48/75\n",
      "20000/20000 - 1s - loss: 0.1466 - accuracy: 0.9489 - val_loss: 0.3481 - val_accuracy: 0.8718\n",
      "Epoch 49/75\n",
      "20000/20000 - 1s - loss: 0.1470 - accuracy: 0.9485 - val_loss: 0.3515 - val_accuracy: 0.8722\n",
      "Epoch 50/75\n",
      "20000/20000 - 1s - loss: 0.1436 - accuracy: 0.9505 - val_loss: 0.3550 - val_accuracy: 0.8710\n",
      "Epoch 51/75\n",
      "20000/20000 - 1s - loss: 0.1430 - accuracy: 0.9488 - val_loss: 0.3554 - val_accuracy: 0.8708\n",
      "Epoch 52/75\n",
      "20000/20000 - 1s - loss: 0.1408 - accuracy: 0.9524 - val_loss: 0.3601 - val_accuracy: 0.8710\n",
      "Epoch 53/75\n",
      "20000/20000 - 1s - loss: 0.1396 - accuracy: 0.9506 - val_loss: 0.3700 - val_accuracy: 0.8700\n",
      "Epoch 54/75\n",
      "20000/20000 - 1s - loss: 0.1413 - accuracy: 0.9498 - val_loss: 0.3641 - val_accuracy: 0.8690\n",
      "Epoch 55/75\n",
      "20000/20000 - 1s - loss: 0.1375 - accuracy: 0.9523 - val_loss: 0.3669 - val_accuracy: 0.8708\n",
      "Epoch 56/75\n",
      "20000/20000 - 1s - loss: 0.1354 - accuracy: 0.9531 - val_loss: 0.3717 - val_accuracy: 0.8696\n",
      "Epoch 57/75\n",
      "20000/20000 - 1s - loss: 0.1329 - accuracy: 0.9549 - val_loss: 0.3725 - val_accuracy: 0.8694\n",
      "Epoch 58/75\n",
      "20000/20000 - 1s - loss: 0.1318 - accuracy: 0.9555 - val_loss: 0.3814 - val_accuracy: 0.8674\n",
      "Epoch 59/75\n",
      "20000/20000 - 1s - loss: 0.1318 - accuracy: 0.9548 - val_loss: 0.3988 - val_accuracy: 0.8598\n",
      "Epoch 60/75\n",
      "20000/20000 - 1s - loss: 0.1323 - accuracy: 0.9550 - val_loss: 0.3827 - val_accuracy: 0.8672\n",
      "Epoch 61/75\n",
      "20000/20000 - 1s - loss: 0.1280 - accuracy: 0.9574 - val_loss: 0.3876 - val_accuracy: 0.8674\n",
      "Epoch 62/75\n",
      "20000/20000 - 1s - loss: 0.1269 - accuracy: 0.9569 - val_loss: 0.3928 - val_accuracy: 0.8670\n",
      "Epoch 63/75\n",
      "20000/20000 - 1s - loss: 0.1261 - accuracy: 0.9575 - val_loss: 0.3948 - val_accuracy: 0.8664\n",
      "Epoch 64/75\n",
      "20000/20000 - 1s - loss: 0.1247 - accuracy: 0.9596 - val_loss: 0.3981 - val_accuracy: 0.8660\n",
      "Epoch 65/75\n",
      "20000/20000 - 1s - loss: 0.1229 - accuracy: 0.9602 - val_loss: 0.4055 - val_accuracy: 0.8654\n",
      "Epoch 66/75\n",
      "20000/20000 - 1s - loss: 0.1231 - accuracy: 0.9593 - val_loss: 0.4042 - val_accuracy: 0.8654\n",
      "Epoch 67/75\n",
      "20000/20000 - 1s - loss: 0.1214 - accuracy: 0.9597 - val_loss: 0.4143 - val_accuracy: 0.8640\n",
      "Epoch 68/75\n",
      "20000/20000 - 1s - loss: 0.1224 - accuracy: 0.9590 - val_loss: 0.4120 - val_accuracy: 0.8652\n",
      "Epoch 69/75\n",
      "20000/20000 - 1s - loss: 0.1198 - accuracy: 0.9604 - val_loss: 0.4169 - val_accuracy: 0.8634\n",
      "Epoch 70/75\n",
      "20000/20000 - 1s - loss: 0.1193 - accuracy: 0.9608 - val_loss: 0.4214 - val_accuracy: 0.8634\n",
      "Epoch 71/75\n",
      "20000/20000 - 1s - loss: 0.1181 - accuracy: 0.9605 - val_loss: 0.4236 - val_accuracy: 0.8642\n",
      "Epoch 72/75\n",
      "20000/20000 - 1s - loss: 0.1156 - accuracy: 0.9624 - val_loss: 0.4266 - val_accuracy: 0.8638\n",
      "Epoch 73/75\n",
      "20000/20000 - 1s - loss: 0.1147 - accuracy: 0.9628 - val_loss: 0.4318 - val_accuracy: 0.8616\n",
      "Epoch 74/75\n",
      "20000/20000 - 1s - loss: 0.1132 - accuracy: 0.9645 - val_loss: 0.4365 - val_accuracy: 0.8612\n",
      "Epoch 75/75\n",
      "20000/20000 - 1s - loss: 0.1138 - accuracy: 0.9627 - val_loss: 0.4378 - val_accuracy: 0.8610\n"
     ]
    }
   ],
   "source": [
    "embedd_dim = 32\n",
    "model32 = keras.Sequential([keras.layers.Embedding(vocab_size + 1, embedd_dim), keras.layers.GlobalAveragePooling1D(),\\\n",
    "                          keras.layers.Dense(32, activation='relu'), keras.layers.Dense(1, activation='sigmoid')])\n",
    "\n",
    "model32.compile(optimizer = 'adam', loss = 'binary_crossentropy', metrics = ['accuracy'])\n",
    "history = model32.fit(x_train, y_train, epochs=75,  batch_size=512, verbose = 2, validation_data = (x_val, y_val))\n",
    "y_test_predict_prob=model32.predict(x_test)\n",
    "y_test_predict=[1 if e >=0.5 else 0 for e in y_test_predict_prob]\n"
   ]
  },
  {
   "cell_type": "code",
   "execution_count": 13,
   "metadata": {},
   "outputs": [
    {
     "name": "stdout",
     "output_type": "stream",
     "text": [
      "accuracy score for test data with embedd_dim=32 is  0.85428\n"
     ]
    }
   ],
   "source": [
    "print('accuracy score for test data with embedd_dim=32 is ',accuracy_score(y_test_predict,y_test))"
   ]
  },
  {
   "cell_type": "markdown",
   "metadata": {},
   "source": [
    "It seems that when embedd_dim=16 is used, the model performance is better. "
   ]
  },
  {
   "cell_type": "code",
   "execution_count": 14,
   "metadata": {},
   "outputs": [
    {
     "data": {
      "image/png": "[encoded data removed]",
      "text/plain": [
       "<Figure size 432x288 with 1 Axes>"
      ]
     },
     "metadata": {
      "needs_background": "light"
     },
     "output_type": "display_data"
    }
   ],
   "source": [
    "plt.plot(history.history['accuracy'])\n",
    "plt.plot(history.history['val_accuracy'])\n",
    "plt.title('Model accuracy')\n",
    "plt.ylabel('Accuracy')\n",
    "plt.xlabel('Epoch')\n",
    "plt.legend(['Train', 'Val'], loc='upper left')\n",
    "plt.show()"
   ]
  },
  {
   "cell_type": "markdown",
   "metadata": {},
   "source": [
    "Although the accuracy for training set is increasing with Epoch, the accuracy for validation dataset starts to decrease after Epoch 18, and the model starts to overfit. "
   ]
  },
  {
   "cell_type": "code",
   "execution_count": null,
   "metadata": {},
   "outputs": [],
   "source": []
  }
 ],
 "metadata": {
  "kernelspec": {
   "display_name": "Python 3",
   "language": "python",
   "name": "python3"
  },
  "language_info": {
   "codemirror_mode": {
    "name": "ipython",
    "version": 3
   },
   "file_extension": ".py",
   "mimetype": "text/x-python",
   "name": "python",
   "nbconvert_exporter": "python",
   "pygments_lexer": "ipython3",
   "version": "3.7.4"
  }
 },
 "nbformat": 4,
 "nbformat_minor": 2
}
